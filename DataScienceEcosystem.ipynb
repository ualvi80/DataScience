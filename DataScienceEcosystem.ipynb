{
 "cells": [
  {
   "cell_type": "markdown",
   "id": "0fc70638",
   "metadata": {},
   "source": [
    "# Data Science Tools and Ecosystem"
   ]
  },
  {
   "cell_type": "markdown",
   "id": "0b088509",
   "metadata": {},
   "source": [
    "## In this notebook,  Data Science Tools and Ecosystem are summarized."
   ]
  },
  {
   "cell_type": "markdown",
   "id": "e14d237e",
   "metadata": {},
   "source": [
    "**Objectives**\n",
    "* Lists.\n",
    "* Data Science Libraries.\n",
    "* Data Science Tools.\n",
    "* Data Science Languages.\n",
    "* Tables."
   ]
  },
  {
   "cell_type": "markdown",
   "id": "659b96cf",
   "metadata": {},
   "source": [
    "### Some of the commonly used libraries used by Data Scientists include:\n",
    "1. Python\n",
    "2. R Language\n",
    "3. SQL"
   ]
  },
  {
   "cell_type": "markdown",
   "id": "560bbb74",
   "metadata": {},
   "source": [
    "### Some of the commonly used libraries used by Data Scientists include:\n",
    "1. Pandas \n",
    "2. NumPy\n",
    "3. MatplotLib"
   ]
  },
  {
   "cell_type": "markdown",
   "id": "f2991170",
   "metadata": {},
   "source": [
    "|Data Science Tools|\n",
    ":---------------:\n",
    "| 1. Anaconda Navigator |\n",
    "| 2. RStudio |\n",
    "| 3. VS Code |"
   ]
  },
  {
   "cell_type": "markdown",
   "id": "e07653a8",
   "metadata": {},
   "source": [
    "### Below are a few examples of evaluating arithmetic expressions in Python"
   ]
  },
  {
   "cell_type": "code",
   "execution_count": 7,
   "id": "00881046",
   "metadata": {},
   "outputs": [
    {
     "data": {
      "text/plain": [
       "17"
      ]
     },
     "execution_count": 7,
     "metadata": {},
     "output_type": "execute_result"
    }
   ],
   "source": [
    "# This is a simple arithmetic operation expression to multiply then add integers.\n",
    "(3*4) + 5"
   ]
  },
  {
   "cell_type": "code",
   "execution_count": 8,
   "id": "c11ba1df",
   "metadata": {},
   "outputs": [
    {
     "data": {
      "text/plain": [
       "3.3333333333333335"
      ]
     },
     "execution_count": 8,
     "metadata": {},
     "output_type": "execute_result"
    }
   ],
   "source": [
    "# This will convert 200 minutes into hours\n",
    "200/60"
   ]
  },
  {
   "cell_type": "markdown",
   "id": "3941bece",
   "metadata": {},
   "source": [
    "## Author\n",
    "Umar Yousaf Alvi"
   ]
  }
 ],
 "metadata": {
  "kernelspec": {
   "display_name": "Python 3 (ipykernel)",
   "language": "python",
   "name": "python3"
  },
  "language_info": {
   "codemirror_mode": {
    "name": "ipython",
    "version": 3
   },
   "file_extension": ".py",
   "mimetype": "text/x-python",
   "name": "python",
   "nbconvert_exporter": "python",
   "pygments_lexer": "ipython3",
   "version": "3.11.5"
  }
 },
 "nbformat": 4,
 "nbformat_minor": 5
}
